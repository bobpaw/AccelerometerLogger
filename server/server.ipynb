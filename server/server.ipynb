{
 "cells": [
  {
   "cell_type": "markdown",
   "metadata": {},
   "source": [
    "### query interfaces"
   ]
  },
  {
   "cell_type": "code",
   "execution_count": 72,
   "metadata": {},
   "outputs": [
    {
     "data": {
      "image/png": "[encoded data removed]",
      "text/plain": [
       "<matplotlib.figure.Figure at 0x10b286550>"
      ]
     },
     "metadata": {},
     "output_type": "display_data"
    }
   ],
   "source": [
    "fig,ax = plt.subplots(1)\n",
    "fig.show()"
   ]
  },
  {
   "cell_type": "code",
   "execution_count": 73,
   "metadata": {},
   "outputs": [
    {
     "data": {
      "application/vnd.jupyter.widget-view+json": {
       "model_id": "8bbd7949eb094f37a8e130dc373d8252"
      }
     },
     "metadata": {},
     "output_type": "display_data"
    },
    {
     "data": {
      "image/png": "[encoded data removed]",
      "text/plain": [
       "<matplotlib.figure.Figure at 0x109995050>"
      ]
     },
     "metadata": {},
     "output_type": "display_data"
    },
    {
     "data": {
      "image/png": "[encoded data removed]",
      "text/plain": [
       "<matplotlib.figure.Figure at 0x10c3039d0>"
      ]
     },
     "metadata": {},
     "output_type": "display_data"
    }
   ],
   "source": [
    "%matplotlib inline\n",
    "from IPython.display import display\n",
    "import socket\n",
    "import ipywidgets as widgets\n",
    "import matplotlib.pyplot as plt\n",
    "\n",
    "clients = dict()\n",
    "sample_count_labels = dict()\n",
    "status_labels = dict()\n",
    "milliseconds_label = widgets.Label(value=\"0\", layout=widgets.Layout(width=\"100%\"))\n",
    "clients[\"charlie\"] = None\n",
    "clients[\"delta\"] = None\n",
    "rate = \"g\"\n",
    "range = \"b\"\n",
    "\n",
    "def build_export_panel():\n",
    "    global clients\n",
    "    export_text = widgets.Text(\n",
    "        value=\"accelerometer.csv\"\n",
    "    )\n",
    "    export_button = widgets.Button(\n",
    "        description=\"Export\"\n",
    "    )\n",
    "    preview_button = widgets.Button(\n",
    "        description=\"Preview\"\n",
    "    )\n",
    "    def preview_click(b):\n",
    "        fig,ax = plt.subplots(1)\n",
    "        fig.show()\n",
    "        \n",
    "    preview_button.on_click(preview_click)\n",
    "    left = widgets.VBox([widgets.Label(value=\"Filename\"), widgets.Label()])\n",
    "    middle = widgets.VBox([export_text, widgets.Label()])\n",
    "    right = widgets.VBox([export_button, preview_button])\n",
    "    export_panel = widgets.HBox([left, middle, right])\n",
    "    return export_panel\n",
    "    \n",
    "def build_status_panel():\n",
    "    global clients\n",
    "    global sample_count_labels\n",
    "    start = widgets.Button(\n",
    "        description=\"Start\"\n",
    "    )\n",
    "    stop = widgets.Button(\n",
    "        description=\"Stop\"\n",
    "    )\n",
    "    col1_children = [ start, stop, widgets.Label() ]\n",
    "    col2_children = [ widgets.Label() ] * 3\n",
    "    col3_children = [ widgets.Label(value=\"Milliseconds\", layout=widgets.Layout(width=\"100%\")), widgets.Label(), widgets.Label(value=\"Status\") ]\n",
    "    col4_children = [ milliseconds_label, widgets.Label(), widgets.Label(\"Samples\")]\n",
    "    for accel in clients.keys():\n",
    "        col2_children.append(widgets.Label(value=accel))\n",
    "        status_labels[accel] = widgets.Label(\n",
    "            value=\"CONNECTED\",\n",
    "            layout=widgets.Layout(width=\"100%\")\n",
    "        )\n",
    "        col3_children.append(status_labels[accel])\n",
    "        sample_count_labels[accel] = widgets.Label(\n",
    "            value=\"0\"\n",
    "        )\n",
    "        col4_children.append(sample_count_labels[accel])\n",
    "    status_panel = widgets.HBox([widgets.VBox(col1_children), widgets.VBox(col2_children), \\\n",
    "                                 widgets.VBox(col3_children), widgets.VBox(col4_children)])\n",
    "    return status_panel\n",
    "\n",
    "def build_settings_panel():\n",
    "    def get_new_value(change):\n",
    "        if change['type'] == 'change' and change['name'] == 'value':\n",
    "            return change['new']\n",
    "        else:\n",
    "            return None\n",
    "        \n",
    "    def rate_setting_change(change):\n",
    "        global rate\n",
    "        val = get_new_value(change)\n",
    "        if val:\n",
    "            rate = val\n",
    "            \n",
    "    def range_setting_change():\n",
    "        global range\n",
    "        val = get_new_value(change)\n",
    "        if val:\n",
    "            range = val\n",
    "    \n",
    "    rate_setting = widgets.Dropdown(\n",
    "        options = list(zip([\"1 Hz\", \"10 Hz\", \"25 Hz\", \"50 Hz\", \"100 Hz\", \"200 Hz\", \"400 Hz\"], [\"a\", \"b\", \"c\", \"d\", \"e\", \"f\", \"g\"])),\n",
    "        value = \"g\"\n",
    "    )\n",
    "    rate_setting.observe(rate_setting_change)\n",
    "    range_setting = widgets.Dropdown(\n",
    "        options = list(zip([\"2 G\", \"4 G\", \"8 G\", \"16 G\"], [\"a\", \"b\", \"c\", \"d\"])),\n",
    "        value = \"b\"\n",
    "    )\n",
    "    labels = [widgets.Label(value=x) for x in [\"Rate\", \"Range\"]]\n",
    "    settings = [rate_setting, range_setting]\n",
    "    label_box = widgets.VBox(labels)\n",
    "    settings_box = widgets.VBox(settings)\n",
    "    config_options = widgets.HBox([label_box, settings_box])\n",
    "    return config_options\n",
    "\n",
    "def cpanel():\n",
    "    main_tabs = widgets.Tab()\n",
    "    main_tabs.children = [ build_status_panel(), build_export_panel(), build_settings_panel() ]\n",
    "    main_tabs.set_title(0, \"Collect Data\")\n",
    "    main_tabs.set_title(1, \"Export Data\")\n",
    "    main_tabs.set_title(2, \"Settings\")\n",
    "    display(main_tabs)\n",
    "\n",
    "cpanel()\n"
   ]
  },
  {
   "cell_type": "code",
   "execution_count": 67,
   "metadata": {},
   "outputs": [
    {
     "data": {
      "application/vnd.jupyter.widget-view+json": {
       "model_id": "5d38cf78dc1d4b9d83a859054b9f1ba4"
      }
     },
     "metadata": {},
     "output_type": "display_data"
    }
   ],
   "source": [
    "def configure():\n",
    "    ipmaybe = ([l for l in ([ip for ip in socket.gethostbyname_ex(socket.gethostname())[2] if not ip.startswith(\"127.\")][:1], [\n",
    "             [(s.connect(('8.8.8.8', 53)), s.getsockname()[0], s.close()) for s in\n",
    "              [socket.socket(socket.AF_INET, socket.SOCK_DGRAM)]][0][1]]) if l][0][0])\n",
    "    interfaces = widgets.Dropdown(\n",
    "        options = [ipmaybe] if type(ipmaybe) is str else ipmaybe,\n",
    "        value = ipmaybe if type(ipmaybe) is str else ipmaybe[0],\n",
    "    )\n",
    "    cport = widgets.Text(\n",
    "        value='9999',\n",
    "        placeholder='Control Port',\n",
    "        disabled=False\n",
    "    )\n",
    "    dport = widgets.Text(\n",
    "        value='9998',\n",
    "        placeholder='Data Port',\n",
    "        disabled=False\n",
    "    )\n",
    "    server_id = widgets.Text(\n",
    "        value='codetacc',\n",
    "        placeholder='Station ID',\n",
    "        disabled=False\n",
    "    )\n",
    "    header = widgets.Label(\n",
    "        value='Configure your server',\n",
    "        layout=widgets.Layout(width='100%')\n",
    "    )\n",
    "    go = widgets.Button(\n",
    "        description='Start server',\n",
    "        layout=widgets.Layout(width=\"100%\")\n",
    "    )\n",
    "    \n",
    "    left_box = widgets.VBox([ widgets.Label(value=x, disabled=True) for x in [\"Interface\", \"Control Port\", \"Data Port\", \"Station ID\", \"\"] ])\n",
    "    right_box = widgets.VBox([interfaces, cport, dport, server_id, go])\n",
    "    settings_box = widgets.HBox([left_box, right_box])\n",
    "    settings_panel = widgets.VBox([header, settings_box])\n",
    "    def start_clicked(b):\n",
    "        settings_panel.close()\n",
    "        cpanel()\n",
    "    go.on_click(start_clicked)\n",
    "    display(settings_panel)\n",
    "\n",
    "configure()"
   ]
  }
 ],
 "metadata": {
  "kernelspec": {
   "display_name": "Python 2",
   "language": "python",
   "name": "python2"
  },
  "language_info": {
   "codemirror_mode": {
    "name": "ipython",
    "version": 2
   },
   "file_extension": ".py",
   "mimetype": "text/x-python",
   "name": "python",
   "nbconvert_exporter": "python",
   "pygments_lexer": "ipython2",
   "version": "2.7.13"
  }
 },
 "nbformat": 4,
 "nbformat_minor": 2
}
